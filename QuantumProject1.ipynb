{
  "nbformat": 4,
  "nbformat_minor": 0,
  "metadata": {
    "colab": {
      "provenance": []
    },
    "kernelspec": {
      "name": "python3",
      "display_name": "Python 3"
    },
    "language_info": {
      "name": "python"
    }
  },
  "cells": [
    {
      "cell_type": "code",
      "execution_count": null,
      "metadata": {
        "id": "yoF6x68llVLZ"
      },
      "outputs": [],
      "source": []
    },
    {
      "cell_type": "markdown",
      "source": [
        "## &#x1f468;&#x200d;&#x1f3eb; Purpose\n",
        "This assignment contains various questions from different sections of the quantum mechanics course CHEM 3PA3.\n",
        "\n",
        "1. &#x1f3b2; Multiple-Choice Questions (one or more answers, separated by spaces or commas)\n",
        "2. &#x1fa99; True/False Questions (write True/False)\n",
        "3. &#x1F5A9; Numerical answers requiring some calculation (write the numerical answer in the requested units; significant figures are not checked)\n",
        "4. &#x1f9ee; Numerical answers requiring no calculation (usually just counting) (write the answer as a number)\n",
        "5. &#x1f500; Matching Questions (write pairs sequentially)."
      ],
      "metadata": {
        "id": "UBSDMlgjLMIo"
      }
    },
    {
      "cell_type": "markdown",
      "source": [
        "### **Newton to Schrodinger**\n",
        "&#x1f500; Assign the following discoveries to their significance in quantum mechanics.\n",
        "\n",
        "|Discovery|Significance|\n",
        "|--|--|\n",
        "|**A.** Blackbody Radiation | **1.** Particle-ness of waves |\n",
        "|**B.** Davisson-Germer experiment  | **2.** Discrete electronic energy levels|\n",
        "|**C.** Rydberg Formula  | **3.** Evidence of quantization of light |\n",
        "|**D.** Compton Scattering  | **4.** Waviness of particles |\n",
        "\n",
        "**Answer:** A, 3, B, 4, C, 2, D, 1\n"
      ],
      "metadata": {
        "id": "_acvZ29tmFWL"
      }
    },
    {
      "cell_type": "markdown",
      "source": [
        "\n",
        "### **The Schrodinger Equation**\n",
        "&#x1F5A9; Suppose the wavelength of a photon is 700 nm. **What is its angular frequency (Hz)**?\n",
        "\n",
        "**Answer:** 2.70e15"
      ],
      "metadata": {
        "id": "JOz7QnNbPHL2"
      }
    },
    {
      "cell_type": "markdown",
      "source": [
        "### **Particle In A Box**\n",
        "\n",
        "**1. &#x1F5A9;** What would be the first excited state energy for an electron in a one dimensional box with length of 3.0 nm? **Energy is in Joules.**\n",
        "\n",
        "Recall that\n",
        "$$\n",
        "E = \\frac{n^2 h^2}{8ma^2}\n",
        "$$\n",
        "\n",
        "**Answer:**"
      ],
      "metadata": {
        "id": "b3LV2UrOz4nz"
      }
    },
    {
      "cell_type": "markdown",
      "source": [
        "The energy is $E=2.67768 \\times 10^{-20} \\text{J}$"
      ],
      "metadata": {
        "id": "cBX7rXa0z-Dl"
      }
    },
    {
      "cell_type": "markdown",
      "source": [
        "### **Multi-dimensional Particle In A Box**\n",
        "**3. &#x1fa99; For a particle in confined in a circular disk, for every value of angular momentum there is two fold degeneracy (True/False)**\n",
        "\n",
        "**Answer:**"
      ],
      "metadata": {
        "id": "XOptQjhI0D1J"
      }
    },
    {
      "cell_type": "markdown",
      "source": [
        "False, since it does not hold for l=0 which only have one degenerate state"
      ],
      "metadata": {
        "id": "akTy26N10Flv"
      }
    },
    {
      "cell_type": "markdown",
      "source": [
        "### **The Postulates of Quantum Mechanics**\n",
        "\n",
        "**Which statement(s) describe the Correspondence principle**\n",
        "\n",
        "A. All observable information about a quantum system can be determined from the wavefunction\n",
        "\n",
        "B. The only measurable values for a given observable are the eigen values of its corresponding Hermitian operator\n",
        "\n",
        "C. For every classical observable, there is a Hermitian operator\n",
        "\n",
        "D. The wavefunction is found by solving the Schrodinger equation\n",
        "\n",
        "E. The wavefunction is the square root of reality\n",
        "\n",
        "**Answer:** B, C"
      ],
      "metadata": {
        "id": "Z_FKq7GtmYmj"
      }
    },
    {
      "cell_type": "markdown",
      "source": [
        "### **1-electron atoms**\n",
        "\n",
        "Relativistic effects are chemically significant for 1-electron atoms with an atomic number 10 **(True/False)**\n",
        "\n",
        "**Answer:** False"
      ],
      "metadata": {
        "id": "LFjMsJSc5ttT"
      }
    }
  ]
}