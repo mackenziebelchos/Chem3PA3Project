{
  "nbformat": 4,
  "nbformat_minor": 0,
  "metadata": {
    "colab": {
      "provenance": []
    },
    "kernelspec": {
      "name": "python3",
      "display_name": "Python 3"
    },
    "language_info": {
      "name": "python"
    }
  },
  "cells": [
    {
      "cell_type": "code",
      "execution_count": null,
      "metadata": {
        "id": "yoF6x68llVLZ"
      },
      "outputs": [],
      "source": []
    },
    {
      "cell_type": "markdown",
      "source": [
        "## &#x1f468;&#x200d;&#x1f3eb; Purpose\n",
        "This assignment contains various questions from different sections of the quantum mechanics course CHEM 3PA3.\n",
        "\n",
        "1. &#x1f3b2; Multiple-Choice Questions (one or more answers, separated by spaces or commas)\n",
        "2. &#x1fa99; True/False Questions (write True/False)\n",
        "3. &#x1F5A9; Numerical answers requiring some calculation (write the numerical answer in the requested units; significant figures are not checked)\n",
        "4. &#x1f9ee; Numerical answers requiring no calculation (usually just counting) (write the answer as a number)\n",
        "5. &#x1f500; Matching Questions (write pairs sequentially)."
      ],
      "metadata": {
        "id": "UBSDMlgjLMIo"
      }
    },
    {
      "cell_type": "markdown",
      "source": [
        "### **Newton to Schrodinger**\n",
        "1.&#x1f500; Assign the following discoveries to their significance in quantum mechanics.\n",
        "\n",
        "|Discovery|Significance|\n",
        "|--|--|\n",
        "|**A.** Blackbody Radiation | **1.** Particle-ness of waves |\n",
        "|**B.** Davisson-Germer experiment  | **2.** Discrete electronic energy levels|\n",
        "|**C.** Rydberg Formula  | **3.** Evidence of quantization of light |\n",
        "|**D.** Compton Scattering  | **4.** Waviness of particles |\n",
        "\n",
        "**Answer:** A, 3, B, 4, C, 2, D, 1\n"
      ],
      "metadata": {
        "id": "_acvZ29tmFWL"
      }
    },
    {
      "cell_type": "markdown",
      "source": [
        "\n",
        "### **The Schrodinger Equation**\n",
        "2.&#x1F5A9; Suppose the wavelength of a photon is 700 nm. **What is its angular frequency (Hz)**?\n",
        "\n",
        "**Answer:** 2.70e15"
      ],
      "metadata": {
        "id": "JOz7QnNbPHL2"
      }
    },
    {
      "cell_type": "markdown",
      "source": [
        "### **Particle In A Box**\n",
        "\n",
        "**3. &#x1F5A9;** What would be the first excited state energy for an electron in a one dimensional box with length of 3.0 nm? **Energy is in Joules.**\n",
        "\n",
        "Recall that\n",
        "$$\n",
        "E = \\frac{n^2 h^2}{8ma^2}\n",
        "$$\n",
        "\n",
        "**Answer:**"
      ],
      "metadata": {
        "id": "b3LV2UrOz4nz"
      }
    },
    {
      "cell_type": "markdown",
      "source": [
        "The energy is $E=2.67768 \\times 10^{-20} \\text{J}$"
      ],
      "metadata": {
        "id": "cBX7rXa0z-Dl"
      }
    },
    {
      "cell_type": "markdown",
      "source": [
        "### **Multi-dimensional Particle In A Box**\n",
        "**4. &#x1fa99; For a particle confined in a circular disk, for every value of angular momentum there is two fold degeneracy (True/False)**\n",
        "\n",
        "**Answer:**"
      ],
      "metadata": {
        "id": "XOptQjhI0D1J"
      }
    },
    {
      "cell_type": "markdown",
      "source": [
        "False, since it does not hold for l=0 which only has one degenerate state"
      ],
      "metadata": {
        "id": "akTy26N10Flv"
      }
    },
    {
      "cell_type": "markdown",
      "source": [
        "### **The Postulates of Quantum Mechanics**\n",
        "\n",
        "5.&#x1f3b2; **Which statement(s) describe the Correspondence principle**\n",
        "\n",
        "A. All observable information about a quantum system can be determined from the wavefunction\n",
        "\n",
        "B. The only measurable values for a given observable are the eigen values of its corresponding Hermitian operator\n",
        "\n",
        "C. For every classical observable, there is a Hermitian operator\n",
        "\n",
        "D. The wavefunction is found by solving the Schrodinger equation\n",
        "\n",
        "E. The wavefunction is the square root of reality\n",
        "\n",
        "**Answer:** B, C"
      ],
      "metadata": {
        "id": "Z_FKq7GtmYmj"
      }
    },
    {
      "cell_type": "markdown",
      "source": [
        "### **1-electron atoms**\n",
        "\n",
        "6.&#x1fa99; Relativistic effects are chemically significant for 1-electron atoms with an atomic number 10 **(True/False)**\n",
        "\n",
        "**Answer:** False"
      ],
      "metadata": {
        "id": "LFjMsJSc5ttT"
      }
    },
    {
      "cell_type": "markdown",
      "source": [
        "##Extra Questions"
      ],
      "metadata": {
        "id": "jD1Uv4myv8sW"
      }
    },
    {
      "cell_type": "markdown",
      "source": [
        "### **From Newton to Schrödinger**\n",
        "\n",
        "**1. &#x1F5A9;**\n",
        "If a photon with a wavelength of 250 nm strikes an electron at rest in a perfectly elastic collision, what would be the velocity of the electron after the collision?\n",
        "\n",
        "**Answer:**"
      ],
      "metadata": {
        "id": "SJZEBCgkBp4b"
      }
    },
    {
      "cell_type": "markdown",
      "source": [
        "The velocity is $E=2.91 \\times 10^{3} \\text{m/s}$"
      ],
      "metadata": {
        "id": "rxu4FKzGBxj-"
      }
    },
    {
      "cell_type": "markdown",
      "source": [
        "### **Particle in A Box**\n",
        "2.&#x1f3b2; Why must the wavefunction $\\psi(x)$ be normalized?\n",
        "\n",
        "**A.** To ensure that the probabillty of finding a particle at some point in space is 1\n",
        "\n",
        "**B.** To ensure the wavefunction $\\psi(x)$ returns true eigenvalues\n",
        "\n",
        "**C.** To ensure the wavefunction $\\psi(x)$ satisfies the Schrödinger Equation for all energy levels\n",
        "\n",
        "**D.** Use as a mathematical tool to simplify the Schrödinger Equation\n",
        "\n",
        "\n",
        "**Answer:**"
      ],
      "metadata": {
        "id": "yjqQs895BzKX"
      }
    },
    {
      "cell_type": "markdown",
      "source": [
        "Answer A"
      ],
      "metadata": {
        "id": "2NlY1GHbB2vM"
      }
    },
    {
      "cell_type": "markdown",
      "source": [
        "### **Particle in A Box**\n",
        "\n",
        "3.&#x1f3b2; When considering the probability of observing an electron at the center of a box in a system that contains multiple electrons, which of the following terms are correctly matched?\n",
        "\n",
        "**A.** Total Wavefunction of non-interacting electrons = product of individual wavefunctions\n",
        "\n",
        "**B.** Total Energy = Sum of individual energies\n",
        "\n",
        "**C.** Probability of finding all electrons at the center simultaneously = Sum of individual terms\n",
        "\n",
        "**D.** Symmetry of the total wavefunction for identical electrons (fermions) = Antisymmetric combination using a Slater determinant\n",
        "\n",
        "**Answer:**"
      ],
      "metadata": {
        "id": "gtDydzvHB7Qh"
      }
    },
    {
      "cell_type": "markdown",
      "source": [
        "Answer = A, B, D"
      ],
      "metadata": {
        "id": "ZXjHlZjNCAmT"
      }
    },
    {
      "cell_type": "markdown",
      "source": [
        "### **Approximate Methods**\n",
        "4.&#x1f500; Assign the following theories to their applications\n",
        "\n",
        "|Theory/method|Application / Mathematical Expression|\n",
        "|--|--|\n",
        "|**A.** Variational Principle | **1.**  Approx. the wavefunction as a linear combination of known basis functions |\n",
        "|**B.** Perturbation Theory  | **2.** Provides an upper bound to the ground state energy |\n",
        "|**C.** Hellmann-Feynman Theorem  | **3.** Used when small disturbance is applied to a system with a known solution |\n",
        "|**D.** Basis Set Expansion  | **4.** Used to compute approximate energy levels |\n",
        "|**E.** Secular Equations  | **5.** Computes forces on nuclei in molecular systems by changing total energy|\n",
        "**Answer:**"
      ],
      "metadata": {
        "id": "Ok0L45cwCDwp"
      }
    },
    {
      "cell_type": "markdown",
      "source": [
        "Answer: A, 2, B, 3, C, 5, D, 1, E, 4"
      ],
      "metadata": {
        "id": "M1BEuTZTCI8_"
      }
    },
    {
      "cell_type": "markdown",
      "source": [
        "### **Multi-dimensional Particle in A Box**\n",
        "\n",
        "5.&#x1fa99; For a quantum particle confined in a unsymmetrical box, energy eigenstates are always non-degenerate. **(True/False)** \\\n",
        "**Answer:**"
      ],
      "metadata": {
        "id": "9MHCtzmKnIbN"
      }
    },
    {
      "cell_type": "markdown",
      "source": [
        "Answer: False. There can be accidental degeneracies."
      ],
      "metadata": {
        "id": "t2DGKgSwoQ0z"
      }
    },
    {
      "cell_type": "markdown",
      "source": [
        "### **Approximate Methods**\n",
        "\n",
        "6.&#x1f3b2; Which of the following statement(s) about functions is/are correct?\n",
        "\n",
        "A. The first derivative of an even function is odd. \\\n",
        "B. A linear combination of odd functions is even. \\\n",
        "C. The product of two odd functions is even. \\\n",
        "D. $cos(ax)$ is an odd function. \\\n",
        "E. The integral of an odd function from $-a$ to $a$ is always nonzero.\n",
        "\n",
        "**Answer:**"
      ],
      "metadata": {
        "id": "uQ6_j_xio-qG"
      }
    },
    {
      "cell_type": "markdown",
      "source": [
        "Answer: A, C"
      ],
      "metadata": {
        "id": "EZBEwF_drK8r"
      }
    },
    {
      "cell_type": "markdown",
      "source": [
        "### **1-Electron Atoms**\n",
        "\n",
        "7.&#x1F5A9; Calculate the energy of the $n=3$ state for a hydrogen atom $(Z=1)$ in **kJ/mol**.\n",
        "\n",
        "The conversion factor is $1$ $a.u. = 2625.5$ $kJ/mol$. \\\n",
        "\n",
        "**Answer:**"
      ],
      "metadata": {
        "id": "FAOcpcYEsxnp"
      }
    },
    {
      "cell_type": "markdown",
      "source": [
        "Answer: Energy is $-145.86$ $kJ/mol$."
      ],
      "metadata": {
        "id": "f3lWpzOu16-S"
      }
    },
    {
      "cell_type": "markdown",
      "source": [
        "### **The Schrodinger Equation**\n",
        "\n",
        "8.&#x1f3b2; Which of the following Hamiltonians can you apply the separation of variables method to solve?\n",
        "\n",
        "A.\n",
        "$\n",
        "H = \\frac{p_x^2}{2m} + \\frac{p_y^2}{2m} + V(x, y), \\quad \\text{where } V(x,y) = V_x(x) + V_y(y)\n",
        "$\n",
        "\n",
        "B.   $H = \\frac{p_u^2}{2m} + \\frac{p_v^2}{2m} + V(u, v), \\quad \\text{where } V(u,v) = u^2 + v^2 + u v $\n",
        "\n",
        "\n",
        "C. $\n",
        "H = \\frac{p_r^2}{2m} + \\frac{p_\\theta^2}{2m r^2} + \\frac{p_\\phi^2}{2m r^2 \\sin^2\\theta} + V(r, \\theta, \\phi), \\quad \\text{where } V(r, \\theta, \\phi) = V_r(r) + V_\\theta(\\theta) + V_\\phi(\\phi)\n",
        "$\n",
        "\n",
        "D. $\n",
        "H = \\frac{p_x^2}{2m} + \\frac{p_y^2}{2m} + V(x, y), \\quad \\text{where } V(x,y) = \\lambda y + x^2\n",
        "$\n",
        "\n",
        "\n",
        "E. $\n",
        "H = \\frac{p_r^2}{2m} + \\frac{p_\\theta^2}{2m r^2} + V(r, \\theta), \\quad \\text{where } V(r, \\theta) = V_r(r) + V_\\theta(\\theta)\n",
        "$\n",
        "\n",
        "**Answer:**  "
      ],
      "metadata": {
        "id": "bedyeGIWZjYX"
      }
    },
    {
      "cell_type": "markdown",
      "source": [
        "Answer: A, C, E"
      ],
      "metadata": {
        "id": "fj9eWYGebtMD"
      }
    },
    {
      "cell_type": "markdown",
      "source": [
        "### **Many Electron Systems**\n",
        "\n",
        "9.&#x1fa99; The wavefunction for a boson follows this behaviour. **(True/False)** \\\n",
        "$$\n",
        "\\psi(r_1, r_2) = -\\psi(r_2, r_1)\n",
        "$$\n",
        "\n",
        "**Answer:**"
      ],
      "metadata": {
        "id": "EvraHycb-zJo"
      }
    },
    {
      "cell_type": "markdown",
      "source": [
        "Answer: False"
      ],
      "metadata": {
        "id": "nSxVC32aCOoH"
      }
    },
    {
      "cell_type": "markdown",
      "source": [
        "### **Multi-Dimensional Particle in a Box**\n",
        "10.&#x1f9ee; For a particle in a square box, $\\ E_{2,4} = E_{4,2} $.\n",
        "\n",
        "If the length of one side is increased and now  follows $\\ a_y $ = $\\ n a_x $, a new set of degenerate states are $\\ E_{2,12} = E_{4,6} $. What is $\\ n $?\n",
        "\n",
        "\n",
        "**Answer:**\n"
      ],
      "metadata": {
        "id": "TUtvebi2EcQZ"
      }
    },
    {
      "cell_type": "markdown",
      "source": [
        "Answer: n = 3"
      ],
      "metadata": {
        "id": "VmEuiptUO5me"
      }
    },
    {
      "cell_type": "markdown",
      "source": [
        "### **Multi-Dimensional Particle in a Box**\n",
        "11.&#x1F5A9; Calculate the energy required to excite an electron from $\\ E_{1,1}$ to $\\ E_{3,4} $ in a box where $\\ a_x $ = 0.3 nm and $\\ a_y $ = 0.2 nm in Joules\n",
        "\n",
        "**Answer:**"
      ],
      "metadata": {
        "id": "mvtqe7W1Poqs"
      }
    },
    {
      "cell_type": "markdown",
      "source": [
        "Answer: 2.795e-17"
      ],
      "metadata": {
        "id": "HBkWP6bwPBTa"
      }
    },
    {
      "cell_type": "markdown",
      "source": [
        "### **From Newton to Schrodinger**\n",
        "\n",
        "12.&#x1fa99; The unit for a normalized time-independent wavefunction are $\\frac{1}{m}$ **(True/False)**\n",
        "\n",
        "**Answer:**"
      ],
      "metadata": {
        "id": "QIPaL_c0bcrV"
      }
    },
    {
      "cell_type": "markdown",
      "source": [
        "Answer: False"
      ],
      "metadata": {
        "id": "RzdndD4NdhfU"
      }
    }
  ]
}